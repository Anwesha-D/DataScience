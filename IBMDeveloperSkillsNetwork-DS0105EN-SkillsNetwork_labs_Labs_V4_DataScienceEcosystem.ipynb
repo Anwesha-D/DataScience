{
  "metadata": {
    "language_info": {
      "codemirror_mode": {
        "name": "python",
        "version": 3
      },
      "file_extension": ".py",
      "mimetype": "text/x-python",
      "name": "python",
      "nbconvert_exporter": "python",
      "pygments_lexer": "ipython3",
      "version": "3.8"
    },
    "kernelspec": {
      "name": "python",
      "display_name": "Pyolite",
      "language": "python"
    }
  },
  "nbformat_minor": 4,
  "nbformat": 4,
  "cells": [
    {
      "cell_type": "markdown",
      "source": "#Exercise 2: Create markdown cell with title of the notebook\n## Data Science Tools and Ecosystem",
      "metadata": {}
    },
    {
      "cell_type": "markdown",
      "source": "#Exercise 3 - Create a markdown cell for an introduction\n\nIn this notebook, Data Science Tools and Ecosystem are summarized.",
      "metadata": {}
    },
    {
      "cell_type": "markdown",
      "source": "#Exercise 4 - Create a markdown cell to list data science languages\n\nSome of the popular languages that Data Scientists use are:\n\n1. R\n2. Python\n3. Scala",
      "metadata": {}
    },
    {
      "cell_type": "raw",
      "source": "#Exercise 5 - Create a markdown cell to list data science libraries\n\nSome of the commonly used libraries used by Data Scientists include:\n\n1. TensorFlow\n2. NumPy\n3. SciPy\n4. Pandas",
      "metadata": {}
    },
    {
      "cell_type": "markdown",
      "source": "Exercise 6 - Create a markdown cell with a table of Data Science tools\n\n| Data Science Tools |\n| -------------|\n| RStudio |\n| Apache Spark |\n| TensorFlow |",
      "metadata": {}
    },
    {
      "cell_type": "markdown",
      "source": "Exercise 7 - Create a markdown cell introducing arithmetic expression examples\n\n### Below are a few examples of evaluating arithmetic expressions in Python",
      "metadata": {}
    },
    {
      "cell_type": "code",
      "source": "#Exercise 8 - Create a code cell to multiply and add numbers\n\n(3*4)+5",
      "metadata": {
        "trusted": true
      },
      "execution_count": 19,
      "outputs": [
        {
          "execution_count": 19,
          "output_type": "execute_result",
          "data": {
            "text/plain": "17"
          },
          "metadata": {}
        }
      ]
    },
    {
      "cell_type": "code",
      "source": "#Exercise 9 - Create a code cell to convert minutes to hours\n\ntotal_minutes = 200\nhours = total_minutes // 60\nminutes = total_minutes % 60\ntime = \"{}:{}\".format(hours, minutes)\nprint(time)\n",
      "metadata": {
        "trusted": true
      },
      "execution_count": 20,
      "outputs": [
        {
          "name": "stdout",
          "text": "3:20\n",
          "output_type": "stream"
        }
      ]
    },
    {
      "cell_type": "markdown",
      "source": "#Exercise 10 - Insert a markdown cell to list Objectives\n\n___Objectives:___\n\n- Jupyter Notebooks are used in Data Science for recording experiments and projects.\n- Jupyter Lab is compatible with many files and Data Science languages.\n- Jupyter implements a two-process model with a kernel and a client.\n- The notebook server is responsible for saving and loading the notebooks.\n- The kernel executes the cells of code contained in the Notebook. ",
      "metadata": {}
    },
    {
      "cell_type": "markdown",
      "source": "Exercise 11 - Create a markdown cell to indicate the Author's name\n\n## Author\nAnwesha D",
      "metadata": {}
    },
    {
      "cell_type": "code",
      "source": "",
      "metadata": {},
      "execution_count": null,
      "outputs": []
    }
  ]
}